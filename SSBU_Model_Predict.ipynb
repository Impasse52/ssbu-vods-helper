{
  "cells": [
    {
      "cell_type": "markdown",
      "metadata": {
        "id": "-tyyv8XFExPk"
      },
      "source": [
        "# SSBU VOD helper\n",
        "\n",
        "Insert your URL and click _Run after_ (Ctrl + F10 OR Runtime -> Run after) to get your output.\n",
        "\n",
        "Note: please use either Youtube OR Twitch at once.\n"
      ]
    },
    {
      "cell_type": "markdown",
      "metadata": {
        "id": "AesGNzuaaskA"
      },
      "source": [
        "## Dependencies\n",
        "\n",
        "Imports dependencies.\n"
      ]
    },
    {
      "cell_type": "code",
      "execution_count": 191,
      "metadata": {
        "id": "UDggPeTtats9"
      },
      "outputs": [],
      "source": [
        "import numpy as np\n",
        "import pandas as pd\n",
        "import tensorflow as tf\n",
        "import os.path\n",
        "from pathlib import Path\n",
        "from tensorflow.keras.models import load_model\n",
        "import subprocess\n",
        "\n",
        "try:\n",
        "    import ffmpeg\n",
        "except ModuleNotFoundError:\n",
        "    subprocess.run([\"pip\", \"-q\", \"install\", \"ffmpeg-python\"])\n",
        "    import ffmpeg"
      ]
    },
    {
      "cell_type": "code",
      "execution_count": 192,
      "metadata": {
        "colab": {
          "base_uri": "https://localhost:8080/"
        },
        "id": "PMptppYSatYY",
        "outputId": "440497d0-14f5-4b0a-89a9-669628ebf14d"
      },
      "outputs": [],
      "source": [
        "# loads model from directory\n",
        "model = load_model(\"./model\")"
      ]
    },
    {
      "cell_type": "markdown",
      "metadata": {
        "id": "v9Xy451sse2m"
      },
      "source": [
        "### Download from YouTube\n"
      ]
    },
    {
      "cell_type": "code",
      "execution_count": 193,
      "metadata": {
        "cellView": "form",
        "id": "YzNHjnwDsMgY"
      },
      "outputs": [],
      "source": [
        "# @markdown Insert your Youtube URL to begin. { run: \"auto\" }\n",
        "try:\n",
        "    import pytube\n",
        "except ModuleNotFoundError:\n",
        "    subprocess.run([\"pip\", \"-q\", \"install\", \"pytube\"])\n",
        "    import pytube\n",
        "\n",
        "youtube_url = \"\"  # @param {type:\"string\"}\n",
        "\n",
        "if youtube_url:\n",
        "    yt = pytube.YouTube(youtube_url.replace(\"watch?v=\", \"\"))\n",
        "    yt = (\n",
        "        yt.streams.filter(progressive=True, file_extension=\"mp4\")\n",
        "        .order_by(\"resolution\")\n",
        "        .desc()\n",
        "        .first()\n",
        "    )\n",
        "\n",
        "    if not os.path.exists(\".\"):\n",
        "        os.makedirs(\".\")\n",
        "\n",
        "    yt.download(\".\")"
      ]
    },
    {
      "cell_type": "markdown",
      "metadata": {
        "id": "ZxdZEuqKsXKq"
      },
      "source": [
        "### Download from Twitch\n"
      ]
    },
    {
      "cell_type": "code",
      "execution_count": 3,
      "metadata": {
        "colab": {
          "base_uri": "https://localhost:8080/"
        },
        "id": "1YSxYYOaAh_Q",
        "outputId": "1888a439-ad15-45fe-db16-c3c6cfd86863"
      },
      "outputs": [
        {
          "name": "stdout",
          "output_type": "stream",
          "text": [
            "\u001b[2mLooking up video...\u001b[0m\n",
            "Found: \u001b[94mSmash Class 36 - feat NFL, Midoriss, Jix, Bosco & more\u001b[0m by \u001b[93mSmashBrosItalia\u001b[0m\n",
            "Output: \u001b[94m2023-09-16_1926971349_smashbrositalia_smash_class_36_feat_nfl_midoriss_jix_bosco_more.mp4\u001b[0m\n",
            "\u001b[2mFetching access token...\u001b[0m\n",
            "\u001b[2mFetching playlists...\u001b[0m\n",
            "\u001b[2mFetching playlist...\u001b[0m\n",
            "\n",
            "Downloading 614 VODs using 5 workers to /tmp/twitch-dl/d6150caf00804038fd66_smashbrositalia_39965237541_1694871808/160p30\n",
            "Downloaded 610/614 VODs \u001b[94m99%\u001b[0m of \u001b[94m~210.4MB\u001b[0m at \u001b[94m5.7MB/s\u001b[0m ETA \u001b[94m00:00\u001b[0m     \n",
            "\n",
            "Joining files...\n",
            "\u001b[2mffmpeg -i /tmp/twitch-dl/d6150caf00804038fd66_smashbrositalia_39965237541_1694871808/160p30/playlist_downloaded.m3u8 -c copy -metadata artist=SmashBrosItalia -metadata title=Smash Class 36 - feat NFL, Midoriss, Jix, Bosco & more -metadata encoded_by=twitch-dl -stats -loglevel warning file:2023-09-16_1926971349_smashbrositalia_smash_class_36_feat_nfl_midoriss_jix_bosco_more.mp4\u001b[0m\n",
            "frame=184096 fps=25225 q=-1.0 Lsize=  179715kB time=01:42:18.62 bitrate= 239.8kbits/s speed= 841x    \n",
            "\n",
            "\u001b[2mDeleting temporary files...\u001b[0m\n",
            "\n",
            "Downloaded: \u001b[92m2023-09-16_1926971349_smashbrositalia_smash_class_36_feat_nfl_midoriss_jix_bosco_more.mp4\u001b[0m\n"
          ]
        }
      ],
      "source": [
        "#@markdown Insert your Twitch URL to begin. { run: \"auto\" }\n",
        "twitch_url = \"https://www.twitch.tv/videos/1926971349\" #@param {type:\"string\"}\n",
        "\n",
        "if twitch_url:\n",
        "  !pip -q install twitch-dl\n",
        "  !twitch-dl download $twitch_url -q 160p -f mp4\n",
        "  # !twitch-dl download -q source -f mp4 $twitch_url"
      ]
    },
    {
      "cell_type": "markdown",
      "metadata": {
        "id": "x54xXVT6_F3H"
      },
      "source": [
        "## Directories handling\n",
        "\n",
        "Creates snapshots folder and video-specific subfolders starting from the last added (downloaded) file.\n"
      ]
    },
    {
      "cell_type": "code",
      "execution_count": 194,
      "metadata": {
        "cellView": "form",
        "id": "NSiVDbz1LeQ9"
      },
      "outputs": [],
      "source": [
        "# @title\n",
        "import os\n",
        "import glob\n",
        "import shutil\n",
        "\n",
        "# orders files by last added\n",
        "files = list(filter(os.path.isfile, glob.glob(\"*\")))\n",
        "files.sort(key=lambda x: \".mp4\" in x and os.path.getmtime(x))\n",
        "\n",
        "# handles situation in which no file is present\n",
        "if not files:\n",
        "    raise Exception(\"An error has occurred: no video files in directory.\")\n",
        "\n",
        "# gets latest file added and sets directory name\n",
        "input_file = files[-1]\n",
        "dir_name = input_file.replace(\".mp4\", \"\")\n",
        "\n",
        "# creates snapshots folder if it doesn't exist\n",
        "for snapshots_dir in [\"snapshots\", f\"snapshots/{dir_name}\"]:\n",
        "    try:\n",
        "        os.mkdir(snapshots_dir)\n",
        "    except FileExistsError:\n",
        "        pass"
      ]
    },
    {
      "cell_type": "markdown",
      "metadata": {
        "id": "XGmC_Wb3_MhL"
      },
      "source": [
        "## Video to frames conversion\n",
        "\n",
        "Uses `ffmpeg-python` to convert a video file to a succession of frames from the same video, grabbing one frame each second and resizing it to 426x240. **This process will take a lot of time** depending on the length of the video, so sit tight.\n"
      ]
    },
    {
      "cell_type": "code",
      "execution_count": 7,
      "metadata": {
        "colab": {
          "base_uri": "https://localhost:8080/"
        },
        "id": "mkJ3buck_Be0",
        "outputId": "46689347-e281-4ab5-9677-29f09f0c5ac8"
      },
      "outputs": [
        {
          "name": "stdout",
          "output_type": "stream",
          "text": [
            "Processing: 2023-09-16_1926971349_smashbrositalia_smash_class_36_feat_nfl_midoriss_jix_bosco_more.mp4\n"
          ]
        }
      ],
      "source": [
        "# @title\n",
        "print(f\"Processing: {input_file}\")\n",
        "try:\n",
        "    (\n",
        "        ffmpeg.input(input_file)\n",
        "        .filter(\"fps\", fps=1)\n",
        "        .output(\n",
        "            f\"snapshots/{dir_name}/%d.jpg\",\n",
        "            # s='426x240',\n",
        "            start_number=0,\n",
        "        )\n",
        "        .run(capture_stdout=True, capture_stderr=True)\n",
        "    )\n",
        "except ffmpeg.Error as e:\n",
        "    print(\"stdout:\", e.stdout.decode(\"utf8\"))\n",
        "    print(\"stderr:\", e.stderr.decode(\"utf8\"))"
      ]
    },
    {
      "cell_type": "markdown",
      "metadata": {
        "id": "MRrIjbK7GIO7"
      },
      "source": [
        "## Frames prediction\n",
        "\n",
        "Defines `predict_screen` which handles each frame (resizing, normalization, etc.) and then predicts its label. This will also take a lot of time.\n"
      ]
    },
    {
      "cell_type": "code",
      "execution_count": 8,
      "metadata": {
        "cellView": "form",
        "id": "2g2odEgcE2VU"
      },
      "outputs": [],
      "source": [
        "def predict_screen(img_dir, labels):\n",
        "    img = tf.keras.preprocessing.image.load_img(\n",
        "        img_dir, target_size=(224, 224)  # inputs directory  # resizes images\n",
        "    )\n",
        "\n",
        "    # (height, width, channels)\n",
        "    img_tensor = tf.keras.preprocessing.image.img_to_array(img)\n",
        "\n",
        "    # (1, height, width, channels), add a dimension because the model\n",
        "    # expects this shape: (batch_size, height, width, channels)\n",
        "    img_tensor = np.expand_dims(img_tensor, axis=0)\n",
        "\n",
        "    # normalization\n",
        "    img_tensor /= 255.0\n",
        "\n",
        "    # predicts the label of the test_images\n",
        "    predictions = model.predict(img_tensor)\n",
        "\n",
        "    # gets label with highest confidence\n",
        "    prediction_index = np.argmax(predictions, axis=1)[0]\n",
        "    label = labels[prediction_index]\n",
        "\n",
        "    # uses original file's name as output name\n",
        "    output_name = img_dir.split(\"/\")[-1]\n",
        "\n",
        "    return {output_name: label, \"confidence\": predictions[0][0]}"
      ]
    },
    {
      "cell_type": "code",
      "execution_count": 195,
      "metadata": {
        "cellView": "form",
        "id": "FJKhbedGE3Nf"
      },
      "outputs": [
        {
          "name": "stdout",
          "output_type": "stream",
          "text": [
            "Snapshots folder already exists; skipping.\n",
            "Snapshots folder already exists; skipping.\n"
          ]
        },
        {
          "data": {
            "text/plain": [
              "'./snapshots/2023-09-16_1926971349_smashbrositalia_smash_class_36_feat_nfl_midoriss_jix_bosco_more'"
            ]
          },
          "execution_count": 195,
          "metadata": {},
          "output_type": "execute_result"
        }
      ],
      "source": [
        "# labels definition\n",
        "labels = {\n",
        "    0: \"gameplay\",\n",
        "    1: \"junk\",\n",
        "}\n",
        "\n",
        "# orders files by last added\n",
        "files = list(filter(os.path.isfile, glob.glob(\"*\")))\n",
        "files.sort(key=lambda x: \".mp4\" in x and os.path.getmtime(x))\n",
        "\n",
        "# handles situation in which no file is present\n",
        "if not files:\n",
        "    raise Exception(\"An error has occurred: no video files in directory.\")\n",
        "\n",
        "# gets latest file added and sets directory name\n",
        "input_file = files[-1]\n",
        "dir_name = input_file.replace(\".mp4\", \"\")\n",
        "\n",
        "# creates snapshots folder if it doesn't exist\n",
        "for snapshots_dir in [\"snapshots\", f\"snapshots/{dir_name}\"]:\n",
        "    try:\n",
        "        os.mkdir(snapshots_dir)\n",
        "    except FileExistsError:\n",
        "        print(\"Snapshots folder already exists; skipping.\")\n",
        "\n",
        "snapshots_dir = rf\"./snapshots/{dir_name}\"\n",
        "snapshots_dir"
      ]
    },
    {
      "cell_type": "code",
      "execution_count": null,
      "metadata": {},
      "outputs": [],
      "source": [
        "df = pd.DataFrame([], columns=[\"Frame\", \"Label\", \"Confidence\"])\n",
        "for f in os.listdir(snapshots_dir):\n",
        "    if f not in labels.values():\n",
        "        prediction = predict_screen(rf\"{snapshots_dir}/{f}\", labels)\n",
        "\n",
        "        pred_dir = prediction[f]\n",
        "\n",
        "        new_row = pd.DataFrame(\n",
        "            [\n",
        "                {\n",
        "                    \"Frame\": int(f.replace(\".jpg\", \"\")),\n",
        "                    \"Label\": prediction[f],\n",
        "                    \"Confidence\": prediction[\"confidence\"],\n",
        "                }\n",
        "            ]\n",
        "        )\n",
        "        df = pd.concat([df, new_row])"
      ]
    },
    {
      "cell_type": "markdown",
      "metadata": {},
      "source": [
        "## Handling predictions"
      ]
    },
    {
      "cell_type": "code",
      "execution_count": 12,
      "metadata": {
        "cellView": "form",
        "id": "Btnp9gByCrGk"
      },
      "outputs": [
        {
          "data": {
            "text/html": [
              "<div>\n",
              "<style scoped>\n",
              "    .dataframe tbody tr th:only-of-type {\n",
              "        vertical-align: middle;\n",
              "    }\n",
              "\n",
              "    .dataframe tbody tr th {\n",
              "        vertical-align: top;\n",
              "    }\n",
              "\n",
              "    .dataframe thead th {\n",
              "        text-align: right;\n",
              "    }\n",
              "</style>\n",
              "<table border=\"1\" class=\"dataframe\">\n",
              "  <thead>\n",
              "    <tr style=\"text-align: right;\">\n",
              "      <th></th>\n",
              "      <th>Frame</th>\n",
              "      <th>Label</th>\n",
              "      <th>Confidence</th>\n",
              "      <th>Timestamp</th>\n",
              "    </tr>\n",
              "  </thead>\n",
              "  <tbody>\n",
              "    <tr>\n",
              "      <th>0</th>\n",
              "      <td>0</td>\n",
              "      <td>junk</td>\n",
              "      <td>0.005594</td>\n",
              "      <td>1970-01-01 00:00:00</td>\n",
              "    </tr>\n",
              "    <tr>\n",
              "      <th>0</th>\n",
              "      <td>1</td>\n",
              "      <td>junk</td>\n",
              "      <td>0.005348</td>\n",
              "      <td>1970-01-01 00:00:01</td>\n",
              "    </tr>\n",
              "    <tr>\n",
              "      <th>0</th>\n",
              "      <td>2</td>\n",
              "      <td>junk</td>\n",
              "      <td>0.006983</td>\n",
              "      <td>1970-01-01 00:00:02</td>\n",
              "    </tr>\n",
              "    <tr>\n",
              "      <th>0</th>\n",
              "      <td>3</td>\n",
              "      <td>junk</td>\n",
              "      <td>0.004294</td>\n",
              "      <td>1970-01-01 00:00:03</td>\n",
              "    </tr>\n",
              "    <tr>\n",
              "      <th>0</th>\n",
              "      <td>4</td>\n",
              "      <td>junk</td>\n",
              "      <td>0.004814</td>\n",
              "      <td>1970-01-01 00:00:04</td>\n",
              "    </tr>\n",
              "    <tr>\n",
              "      <th>...</th>\n",
              "      <td>...</td>\n",
              "      <td>...</td>\n",
              "      <td>...</td>\n",
              "      <td>...</td>\n",
              "    </tr>\n",
              "    <tr>\n",
              "      <th>0</th>\n",
              "      <td>6133</td>\n",
              "      <td>gameplay</td>\n",
              "      <td>0.999940</td>\n",
              "      <td>1970-01-01 01:42:13</td>\n",
              "    </tr>\n",
              "    <tr>\n",
              "      <th>0</th>\n",
              "      <td>6134</td>\n",
              "      <td>gameplay</td>\n",
              "      <td>0.999948</td>\n",
              "      <td>1970-01-01 01:42:14</td>\n",
              "    </tr>\n",
              "    <tr>\n",
              "      <th>0</th>\n",
              "      <td>6135</td>\n",
              "      <td>gameplay</td>\n",
              "      <td>0.999894</td>\n",
              "      <td>1970-01-01 01:42:15</td>\n",
              "    </tr>\n",
              "    <tr>\n",
              "      <th>0</th>\n",
              "      <td>6136</td>\n",
              "      <td>gameplay</td>\n",
              "      <td>0.999917</td>\n",
              "      <td>1970-01-01 01:42:16</td>\n",
              "    </tr>\n",
              "    <tr>\n",
              "      <th>0</th>\n",
              "      <td>6137</td>\n",
              "      <td>gameplay</td>\n",
              "      <td>0.999949</td>\n",
              "      <td>1970-01-01 01:42:17</td>\n",
              "    </tr>\n",
              "  </tbody>\n",
              "</table>\n",
              "<p>6138 rows × 4 columns</p>\n",
              "</div>"
            ],
            "text/plain": [
              "    Frame     Label  Confidence           Timestamp\n",
              "0       0      junk    0.005594 1970-01-01 00:00:00\n",
              "0       1      junk    0.005348 1970-01-01 00:00:01\n",
              "0       2      junk    0.006983 1970-01-01 00:00:02\n",
              "0       3      junk    0.004294 1970-01-01 00:00:03\n",
              "0       4      junk    0.004814 1970-01-01 00:00:04\n",
              "..    ...       ...         ...                 ...\n",
              "0    6133  gameplay    0.999940 1970-01-01 01:42:13\n",
              "0    6134  gameplay    0.999948 1970-01-01 01:42:14\n",
              "0    6135  gameplay    0.999894 1970-01-01 01:42:15\n",
              "0    6136  gameplay    0.999917 1970-01-01 01:42:16\n",
              "0    6137  gameplay    0.999949 1970-01-01 01:42:17\n",
              "\n",
              "[6138 rows x 4 columns]"
            ]
          },
          "execution_count": 12,
          "metadata": {},
          "output_type": "execute_result"
        }
      ],
      "source": [
        "# ensure frame has a numeric type and sort\n",
        "df[\"Frame\"] = df[\"Frame\"].astype(\"int64\")\n",
        "df = df.sort_values(by=\"Frame\")\n",
        "\n",
        "# create a timestamp column\n",
        "df[\"Timestamp\"] = pd.to_datetime(df[\"Frame\"], unit=\"s\")\n",
        "\n",
        "# export the csv\n",
        "df.to_csv(\"df_timestamps.csv\", index=False)"
      ]
    },
    {
      "cell_type": "code",
      "execution_count": 54,
      "metadata": {},
      "outputs": [
        {
          "data": {
            "text/html": [
              "<div>\n",
              "<style scoped>\n",
              "    .dataframe tbody tr th:only-of-type {\n",
              "        vertical-align: middle;\n",
              "    }\n",
              "\n",
              "    .dataframe tbody tr th {\n",
              "        vertical-align: top;\n",
              "    }\n",
              "\n",
              "    .dataframe thead th {\n",
              "        text-align: right;\n",
              "    }\n",
              "</style>\n",
              "<table border=\"1\" class=\"dataframe\">\n",
              "  <thead>\n",
              "    <tr style=\"text-align: right;\">\n",
              "      <th></th>\n",
              "      <th>Frame</th>\n",
              "      <th>Label</th>\n",
              "      <th>Confidence</th>\n",
              "      <th>Timestamp</th>\n",
              "    </tr>\n",
              "  </thead>\n",
              "  <tbody>\n",
              "    <tr>\n",
              "      <th>0</th>\n",
              "      <td>0</td>\n",
              "      <td>junk</td>\n",
              "      <td>0.005594</td>\n",
              "      <td>1970-01-01 00:00:00</td>\n",
              "    </tr>\n",
              "    <tr>\n",
              "      <th>1</th>\n",
              "      <td>1</td>\n",
              "      <td>junk</td>\n",
              "      <td>0.005348</td>\n",
              "      <td>1970-01-01 00:00:01</td>\n",
              "    </tr>\n",
              "    <tr>\n",
              "      <th>2</th>\n",
              "      <td>2</td>\n",
              "      <td>junk</td>\n",
              "      <td>0.006983</td>\n",
              "      <td>1970-01-01 00:00:02</td>\n",
              "    </tr>\n",
              "    <tr>\n",
              "      <th>3</th>\n",
              "      <td>3</td>\n",
              "      <td>junk</td>\n",
              "      <td>0.004294</td>\n",
              "      <td>1970-01-01 00:00:03</td>\n",
              "    </tr>\n",
              "    <tr>\n",
              "      <th>4</th>\n",
              "      <td>4</td>\n",
              "      <td>junk</td>\n",
              "      <td>0.004814</td>\n",
              "      <td>1970-01-01 00:00:04</td>\n",
              "    </tr>\n",
              "    <tr>\n",
              "      <th>...</th>\n",
              "      <td>...</td>\n",
              "      <td>...</td>\n",
              "      <td>...</td>\n",
              "      <td>...</td>\n",
              "    </tr>\n",
              "    <tr>\n",
              "      <th>6133</th>\n",
              "      <td>6133</td>\n",
              "      <td>gameplay</td>\n",
              "      <td>0.999940</td>\n",
              "      <td>1970-01-01 01:42:13</td>\n",
              "    </tr>\n",
              "    <tr>\n",
              "      <th>6134</th>\n",
              "      <td>6134</td>\n",
              "      <td>gameplay</td>\n",
              "      <td>0.999948</td>\n",
              "      <td>1970-01-01 01:42:14</td>\n",
              "    </tr>\n",
              "    <tr>\n",
              "      <th>6135</th>\n",
              "      <td>6135</td>\n",
              "      <td>gameplay</td>\n",
              "      <td>0.999894</td>\n",
              "      <td>1970-01-01 01:42:15</td>\n",
              "    </tr>\n",
              "    <tr>\n",
              "      <th>6136</th>\n",
              "      <td>6136</td>\n",
              "      <td>gameplay</td>\n",
              "      <td>0.999917</td>\n",
              "      <td>1970-01-01 01:42:16</td>\n",
              "    </tr>\n",
              "    <tr>\n",
              "      <th>6137</th>\n",
              "      <td>6137</td>\n",
              "      <td>gameplay</td>\n",
              "      <td>0.999949</td>\n",
              "      <td>1970-01-01 01:42:17</td>\n",
              "    </tr>\n",
              "  </tbody>\n",
              "</table>\n",
              "<p>6138 rows × 4 columns</p>\n",
              "</div>"
            ],
            "text/plain": [
              "      Frame     Label  Confidence            Timestamp\n",
              "0         0      junk    0.005594  1970-01-01 00:00:00\n",
              "1         1      junk    0.005348  1970-01-01 00:00:01\n",
              "2         2      junk    0.006983  1970-01-01 00:00:02\n",
              "3         3      junk    0.004294  1970-01-01 00:00:03\n",
              "4         4      junk    0.004814  1970-01-01 00:00:04\n",
              "...     ...       ...         ...                  ...\n",
              "6133   6133  gameplay    0.999940  1970-01-01 01:42:13\n",
              "6134   6134  gameplay    0.999948  1970-01-01 01:42:14\n",
              "6135   6135  gameplay    0.999894  1970-01-01 01:42:15\n",
              "6136   6136  gameplay    0.999917  1970-01-01 01:42:16\n",
              "6137   6137  gameplay    0.999949  1970-01-01 01:42:17\n",
              "\n",
              "[6138 rows x 4 columns]"
            ]
          },
          "execution_count": 54,
          "metadata": {},
          "output_type": "execute_result"
        }
      ],
      "source": [
        "df = pd.read_csv(\"df_timestamps.csv\")\n",
        "df"
      ]
    },
    {
      "cell_type": "code",
      "execution_count": 59,
      "metadata": {},
      "outputs": [],
      "source": [
        "# construct a Duration column, used to implement thresholding later\n",
        "prev_label = df.loc[0, \"Label\"]\n",
        "prev_label_idx = 0\n",
        "duration = 0\n",
        "\n",
        "for i, r in df.iterrows():\n",
        "    if prev_label != r[\"Label\"]:\n",
        "        df.loc[prev_label_idx : (prev_label_idx + duration - 1), \"Duration\"] = duration  # type: ignore\n",
        "\n",
        "        prev_label = r[\"Label\"]\n",
        "        prev_label_idx = i\n",
        "\n",
        "        duration = 0\n",
        "\n",
        "    duration += 1\n",
        "\n",
        "df.to_csv(\"df_timestamps_duration.csv\", index=False)"
      ]
    },
    {
      "cell_type": "markdown",
      "metadata": {},
      "source": [
        "### Handling games"
      ]
    },
    {
      "cell_type": "code",
      "execution_count": 110,
      "metadata": {},
      "outputs": [
        {
          "data": {
            "text/html": [
              "<div>\n",
              "<style scoped>\n",
              "    .dataframe tbody tr th:only-of-type {\n",
              "        vertical-align: middle;\n",
              "    }\n",
              "\n",
              "    .dataframe tbody tr th {\n",
              "        vertical-align: top;\n",
              "    }\n",
              "\n",
              "    .dataframe thead th {\n",
              "        text-align: right;\n",
              "    }\n",
              "</style>\n",
              "<table border=\"1\" class=\"dataframe\">\n",
              "  <thead>\n",
              "    <tr style=\"text-align: right;\">\n",
              "      <th></th>\n",
              "      <th>Frame</th>\n",
              "      <th>Label</th>\n",
              "      <th>Confidence</th>\n",
              "      <th>Timestamp</th>\n",
              "      <th>Duration</th>\n",
              "    </tr>\n",
              "  </thead>\n",
              "  <tbody>\n",
              "    <tr>\n",
              "      <th>0</th>\n",
              "      <td>0</td>\n",
              "      <td>junk</td>\n",
              "      <td>0.005594</td>\n",
              "      <td>1970-01-01 00:00:00</td>\n",
              "      <td>266.0</td>\n",
              "    </tr>\n",
              "    <tr>\n",
              "      <th>1</th>\n",
              "      <td>1</td>\n",
              "      <td>junk</td>\n",
              "      <td>0.005348</td>\n",
              "      <td>1970-01-01 00:00:01</td>\n",
              "      <td>266.0</td>\n",
              "    </tr>\n",
              "    <tr>\n",
              "      <th>2</th>\n",
              "      <td>2</td>\n",
              "      <td>junk</td>\n",
              "      <td>0.006983</td>\n",
              "      <td>1970-01-01 00:00:02</td>\n",
              "      <td>266.0</td>\n",
              "    </tr>\n",
              "    <tr>\n",
              "      <th>3</th>\n",
              "      <td>3</td>\n",
              "      <td>junk</td>\n",
              "      <td>0.004294</td>\n",
              "      <td>1970-01-01 00:00:03</td>\n",
              "      <td>266.0</td>\n",
              "    </tr>\n",
              "    <tr>\n",
              "      <th>4</th>\n",
              "      <td>4</td>\n",
              "      <td>junk</td>\n",
              "      <td>0.004814</td>\n",
              "      <td>1970-01-01 00:00:04</td>\n",
              "      <td>266.0</td>\n",
              "    </tr>\n",
              "    <tr>\n",
              "      <th>...</th>\n",
              "      <td>...</td>\n",
              "      <td>...</td>\n",
              "      <td>...</td>\n",
              "      <td>...</td>\n",
              "      <td>...</td>\n",
              "    </tr>\n",
              "    <tr>\n",
              "      <th>6133</th>\n",
              "      <td>6133</td>\n",
              "      <td>gameplay</td>\n",
              "      <td>0.999940</td>\n",
              "      <td>1970-01-01 01:42:13</td>\n",
              "      <td>NaN</td>\n",
              "    </tr>\n",
              "    <tr>\n",
              "      <th>6134</th>\n",
              "      <td>6134</td>\n",
              "      <td>gameplay</td>\n",
              "      <td>0.999948</td>\n",
              "      <td>1970-01-01 01:42:14</td>\n",
              "      <td>NaN</td>\n",
              "    </tr>\n",
              "    <tr>\n",
              "      <th>6135</th>\n",
              "      <td>6135</td>\n",
              "      <td>gameplay</td>\n",
              "      <td>0.999894</td>\n",
              "      <td>1970-01-01 01:42:15</td>\n",
              "      <td>NaN</td>\n",
              "    </tr>\n",
              "    <tr>\n",
              "      <th>6136</th>\n",
              "      <td>6136</td>\n",
              "      <td>gameplay</td>\n",
              "      <td>0.999917</td>\n",
              "      <td>1970-01-01 01:42:16</td>\n",
              "      <td>NaN</td>\n",
              "    </tr>\n",
              "    <tr>\n",
              "      <th>6137</th>\n",
              "      <td>6137</td>\n",
              "      <td>gameplay</td>\n",
              "      <td>0.999949</td>\n",
              "      <td>1970-01-01 01:42:17</td>\n",
              "      <td>NaN</td>\n",
              "    </tr>\n",
              "  </tbody>\n",
              "</table>\n",
              "<p>6138 rows × 5 columns</p>\n",
              "</div>"
            ],
            "text/plain": [
              "      Frame     Label  Confidence            Timestamp  Duration\n",
              "0         0      junk    0.005594  1970-01-01 00:00:00     266.0\n",
              "1         1      junk    0.005348  1970-01-01 00:00:01     266.0\n",
              "2         2      junk    0.006983  1970-01-01 00:00:02     266.0\n",
              "3         3      junk    0.004294  1970-01-01 00:00:03     266.0\n",
              "4         4      junk    0.004814  1970-01-01 00:00:04     266.0\n",
              "...     ...       ...         ...                  ...       ...\n",
              "6133   6133  gameplay    0.999940  1970-01-01 01:42:13       NaN\n",
              "6134   6134  gameplay    0.999948  1970-01-01 01:42:14       NaN\n",
              "6135   6135  gameplay    0.999894  1970-01-01 01:42:15       NaN\n",
              "6136   6136  gameplay    0.999917  1970-01-01 01:42:16       NaN\n",
              "6137   6137  gameplay    0.999949  1970-01-01 01:42:17       NaN\n",
              "\n",
              "[6138 rows x 5 columns]"
            ]
          },
          "execution_count": 110,
          "metadata": {},
          "output_type": "execute_result"
        }
      ],
      "source": [
        "df = pd.read_csv(\"df_timestamps_duration.csv\")\n",
        "df"
      ]
    },
    {
      "cell_type": "code",
      "execution_count": 111,
      "metadata": {},
      "outputs": [],
      "source": [
        "# apply thresholding\n",
        "df = df.drop(df[df[\"Duration\"] < 5].index)\n",
        "\n",
        "df.to_csv(\"df_timestamps_threshold.csv\", index=False)"
      ]
    },
    {
      "cell_type": "code",
      "execution_count": 113,
      "metadata": {},
      "outputs": [
        {
          "data": {
            "text/plain": [
              "<Axes: xlabel='Timestamp', ylabel='Timestamp'>"
            ]
          },
          "execution_count": 113,
          "metadata": {},
          "output_type": "execute_result"
        },
        {
          "data": {
            "image/png": "[encoded data removed]",
            "text/plain": [
              "<Figure size 640x480 with 1 Axes>"
            ]
          },
          "metadata": {},
          "output_type": "display_data"
        }
      ],
      "source": [
        "df[\"Color\"] = np.where(df[\"Label\"] == \"gameplay\", \"orange\", \"blue\")\n",
        "\n",
        "df[\"Timestamp\"] = pd.to_datetime(df[\"Frame\"], unit=\"s\")\n",
        "\n",
        "df.plot.scatter(x=\"Timestamp\", y=\"Timestamp\", c=\"Color\")"
      ]
    },
    {
      "cell_type": "markdown",
      "metadata": {},
      "source": [
        "### Handling sets"
      ]
    },
    {
      "cell_type": "code",
      "execution_count": 114,
      "metadata": {
        "id": "e1RlUK8kXCM_"
      },
      "outputs": [],
      "source": [
        "df[\"Timestamp\"] = pd.to_datetime(df[\"Frame\"], unit=\"s\")\n",
        "\n",
        "def group_labels(df: pd.DataFrame, col_name: str) -> pd.DataFrame:\n",
        "    \"\"\"\n",
        "    Groups any consecutive timestamp with the same label in a single entry.\n",
        "    The entry is then filled with \"Start Time\" and \"End Time\", each containing\n",
        "    information about when the label changed. Returns a labeled dataframe.\n",
        "    \"\"\"\n",
        "\n",
        "    # creates an empty segments dataframe\n",
        "    segments = pd.DataFrame(columns=[\"Label\", \"Start Time\", \"End Time\"])\n",
        "\n",
        "    # initial start time\n",
        "    start_time = df.iloc[0][\"Timestamp\"]\n",
        "\n",
        "    for i in range(df.shape[0]):\n",
        "        try:\n",
        "            # slices the df whenever a new label is encountered\n",
        "            if df.iloc[i][col_name] != df.iloc[i + 1][col_name]:\n",
        "                duration = df.iloc[i][\"Timestamp\"] - start_time\n",
        "\n",
        "                segments = pd.concat(\n",
        "                    [\n",
        "                        segments,\n",
        "                        pd.DataFrame(\n",
        "                            [\n",
        "                                {\n",
        "                                    \"Label\": df.iloc[i][\"Label\"],\n",
        "                                    \"Start Time\": start_time,\n",
        "                                    \"End Time\": df.iloc[i][\"Timestamp\"],\n",
        "                                    \"Duration\": duration,\n",
        "                                }\n",
        "                            ],\n",
        "                        ),\n",
        "                    ]\n",
        "                )\n",
        "\n",
        "                # new start time\n",
        "                start_time = df.iloc[i][\"Timestamp\"]\n",
        "\n",
        "        except IndexError:\n",
        "            # handles the last entry\n",
        "            duration = df.iloc[i][\"Timestamp\"] - start_time\n",
        "\n",
        "            segments = pd.concat(\n",
        "                [\n",
        "                    segments,\n",
        "                    pd.DataFrame(\n",
        "                        [\n",
        "                            {\n",
        "                                \"Label\": df.iloc[i][\"Label\"],\n",
        "                                \"Start Time\": start_time,\n",
        "                                \"End Time\": df.iloc[i][\"Timestamp\"],\n",
        "                                \"Duration\": duration,\n",
        "                            }\n",
        "                        ],\n",
        "                    ),\n",
        "                ]\n",
        "            )\n",
        "\n",
        "            # new start time\n",
        "            start_time = df.iloc[i][\"Timestamp\"]\n",
        "\n",
        "    return segments"
      ]
    },
    {
      "cell_type": "code",
      "execution_count": 196,
      "metadata": {
        "id": "9CsWVci8XD6C"
      },
      "outputs": [
        {
          "data": {
            "text/html": [
              "<div>\n",
              "<style scoped>\n",
              "    .dataframe tbody tr th:only-of-type {\n",
              "        vertical-align: middle;\n",
              "    }\n",
              "\n",
              "    .dataframe tbody tr th {\n",
              "        vertical-align: top;\n",
              "    }\n",
              "\n",
              "    .dataframe thead th {\n",
              "        text-align: right;\n",
              "    }\n",
              "</style>\n",
              "<table border=\"1\" class=\"dataframe\">\n",
              "  <thead>\n",
              "    <tr style=\"text-align: right;\">\n",
              "      <th></th>\n",
              "      <th>Label</th>\n",
              "      <th>Start Time</th>\n",
              "      <th>End Time</th>\n",
              "      <th>Duration</th>\n",
              "      <th>Color</th>\n",
              "    </tr>\n",
              "  </thead>\n",
              "  <tbody>\n",
              "    <tr>\n",
              "      <th>0</th>\n",
              "      <td>junk</td>\n",
              "      <td>1970-01-01 00:00:00</td>\n",
              "      <td>1970-01-01 00:10:21</td>\n",
              "      <td>0 days 00:10:21</td>\n",
              "      <td>blue</td>\n",
              "    </tr>\n",
              "    <tr>\n",
              "      <th>0</th>\n",
              "      <td>gameplay</td>\n",
              "      <td>1970-01-01 00:10:21</td>\n",
              "      <td>1970-01-01 00:14:40</td>\n",
              "      <td>0 days 00:04:19</td>\n",
              "      <td>orange</td>\n",
              "    </tr>\n",
              "    <tr>\n",
              "      <th>0</th>\n",
              "      <td>junk</td>\n",
              "      <td>1970-01-01 00:14:40</td>\n",
              "      <td>1970-01-01 00:15:33</td>\n",
              "      <td>0 days 00:00:53</td>\n",
              "      <td>blue</td>\n",
              "    </tr>\n",
              "    <tr>\n",
              "      <th>0</th>\n",
              "      <td>gameplay</td>\n",
              "      <td>1970-01-01 00:15:33</td>\n",
              "      <td>1970-01-01 00:18:48</td>\n",
              "      <td>0 days 00:03:15</td>\n",
              "      <td>orange</td>\n",
              "    </tr>\n",
              "    <tr>\n",
              "      <th>0</th>\n",
              "      <td>junk</td>\n",
              "      <td>1970-01-01 00:18:48</td>\n",
              "      <td>1970-01-01 00:20:12</td>\n",
              "      <td>0 days 00:01:24</td>\n",
              "      <td>blue</td>\n",
              "    </tr>\n",
              "    <tr>\n",
              "      <th>0</th>\n",
              "      <td>gameplay</td>\n",
              "      <td>1970-01-01 00:20:12</td>\n",
              "      <td>1970-01-01 00:24:22</td>\n",
              "      <td>0 days 00:04:10</td>\n",
              "      <td>orange</td>\n",
              "    </tr>\n",
              "    <tr>\n",
              "      <th>0</th>\n",
              "      <td>junk</td>\n",
              "      <td>1970-01-01 00:24:22</td>\n",
              "      <td>1970-01-01 00:25:01</td>\n",
              "      <td>0 days 00:00:39</td>\n",
              "      <td>blue</td>\n",
              "    </tr>\n",
              "    <tr>\n",
              "      <th>0</th>\n",
              "      <td>gameplay</td>\n",
              "      <td>1970-01-01 00:25:01</td>\n",
              "      <td>1970-01-01 00:30:19</td>\n",
              "      <td>0 days 00:05:18</td>\n",
              "      <td>orange</td>\n",
              "    </tr>\n",
              "    <tr>\n",
              "      <th>0</th>\n",
              "      <td>junk</td>\n",
              "      <td>1970-01-01 00:30:19</td>\n",
              "      <td>1970-01-01 00:34:19</td>\n",
              "      <td>0 days 00:04:00</td>\n",
              "      <td>blue</td>\n",
              "    </tr>\n",
              "    <tr>\n",
              "      <th>0</th>\n",
              "      <td>gameplay</td>\n",
              "      <td>1970-01-01 00:34:19</td>\n",
              "      <td>1970-01-01 00:37:01</td>\n",
              "      <td>0 days 00:02:42</td>\n",
              "      <td>orange</td>\n",
              "    </tr>\n",
              "  </tbody>\n",
              "</table>\n",
              "</div>"
            ],
            "text/plain": [
              "      Label          Start Time            End Time        Duration   Color\n",
              "0      junk 1970-01-01 00:00:00 1970-01-01 00:10:21 0 days 00:10:21    blue\n",
              "0  gameplay 1970-01-01 00:10:21 1970-01-01 00:14:40 0 days 00:04:19  orange\n",
              "0      junk 1970-01-01 00:14:40 1970-01-01 00:15:33 0 days 00:00:53    blue\n",
              "0  gameplay 1970-01-01 00:15:33 1970-01-01 00:18:48 0 days 00:03:15  orange\n",
              "0      junk 1970-01-01 00:18:48 1970-01-01 00:20:12 0 days 00:01:24    blue\n",
              "0  gameplay 1970-01-01 00:20:12 1970-01-01 00:24:22 0 days 00:04:10  orange\n",
              "0      junk 1970-01-01 00:24:22 1970-01-01 00:25:01 0 days 00:00:39    blue\n",
              "0  gameplay 1970-01-01 00:25:01 1970-01-01 00:30:19 0 days 00:05:18  orange\n",
              "0      junk 1970-01-01 00:30:19 1970-01-01 00:34:19 0 days 00:04:00    blue\n",
              "0  gameplay 1970-01-01 00:34:19 1970-01-01 00:37:01 0 days 00:02:42  orange"
            ]
          },
          "execution_count": 196,
          "metadata": {},
          "output_type": "execute_result"
        }
      ],
      "source": [
        "timestamps_df = group_labels(df, \"Label\")\n",
        "\n",
        "# create a colur column for visualization purposes\n",
        "timestamps_df[\"Color\"] = np.where(\n",
        "    timestamps_df[\"Label\"] == \"gameplay\", \"orange\", \"blue\"\n",
        ")\n",
        "\n",
        "timestamps_df.head(10)"
      ]
    },
    {
      "cell_type": "code",
      "execution_count": 215,
      "metadata": {
        "id": "mKE53DXWhW3K"
      },
      "outputs": [
        {
          "data": {
            "text/plain": [
              "Text(0.5, 1.0, 'Games (with junk)')"
            ]
          },
          "execution_count": 215,
          "metadata": {},
          "output_type": "execute_result"
        },
        {
          "data": {
            "image/png": "[encoded data removed]",
            "text/plain": [
              "<Figure size 1200x500 with 1 Axes>"
            ]
          },
          "metadata": {},
          "output_type": "display_data"
        }
      ],
      "source": [
        "import matplotlib.pyplot as plt\n",
        "from matplotlib.pyplot import figure\n",
        "\n",
        "figure(num=None, figsize=(12, 5))\n",
        "\n",
        "# reminder: blue = junk, orange = gameplay\n",
        "plt.scatter(\n",
        "    x=timestamps_df[\"Start Time\"], y=timestamps_df[\"End Time\"], c=timestamps_df[\"Color\"]\n",
        ")\n",
        "\n",
        "plt.title(\"Games (with junk)\")"
      ]
    },
    {
      "cell_type": "code",
      "execution_count": 216,
      "metadata": {},
      "outputs": [
        {
          "data": {
            "text/plain": [
              "Text(0.5, 1.0, 'Games (excluding junk)')"
            ]
          },
          "execution_count": 216,
          "metadata": {},
          "output_type": "execute_result"
        },
        {
          "data": {
            "image/png": "[encoded data removed]",
            "text/plain": [
              "<Figure size 1200x500 with 1 Axes>"
            ]
          },
          "metadata": {},
          "output_type": "display_data"
        }
      ],
      "source": [
        "figure(num=None, figsize=(12, 5))\n",
        "\n",
        "games_df = timestamps_df[timestamps_df[\"Label\"] == \"gameplay\"]\n",
        "\n",
        "plt.scatter(x=games_df[\"Start Time\"], y=games_df[\"End Time\"], c=games_df[\"Color\"])\n",
        "plt.title(\"Games (excluding junk)\")"
      ]
    },
    {
      "cell_type": "code",
      "execution_count": 200,
      "metadata": {
        "id": "cW4CjxRTwTAv"
      },
      "outputs": [],
      "source": [
        "timestamps_df.to_csv(\"df_timestamps_grouped.csv\", index=False)"
      ]
    },
    {
      "cell_type": "markdown",
      "metadata": {},
      "source": [
        "## Clustering\n"
      ]
    },
    {
      "cell_type": "code",
      "execution_count": 202,
      "metadata": {},
      "outputs": [
        {
          "data": {
            "text/html": [
              "<div>\n",
              "<style scoped>\n",
              "    .dataframe tbody tr th:only-of-type {\n",
              "        vertical-align: middle;\n",
              "    }\n",
              "\n",
              "    .dataframe tbody tr th {\n",
              "        vertical-align: top;\n",
              "    }\n",
              "\n",
              "    .dataframe thead th {\n",
              "        text-align: right;\n",
              "    }\n",
              "</style>\n",
              "<table border=\"1\" class=\"dataframe\">\n",
              "  <thead>\n",
              "    <tr style=\"text-align: right;\">\n",
              "      <th></th>\n",
              "      <th>Label</th>\n",
              "      <th>Start Time</th>\n",
              "      <th>End Time</th>\n",
              "      <th>Duration</th>\n",
              "      <th>Color</th>\n",
              "    </tr>\n",
              "  </thead>\n",
              "  <tbody>\n",
              "    <tr>\n",
              "      <th>0</th>\n",
              "      <td>junk</td>\n",
              "      <td>1970-01-01 00:00:00</td>\n",
              "      <td>1970-01-01 00:10:21</td>\n",
              "      <td>0 days 00:10:21</td>\n",
              "      <td>blue</td>\n",
              "    </tr>\n",
              "    <tr>\n",
              "      <th>1</th>\n",
              "      <td>gameplay</td>\n",
              "      <td>1970-01-01 00:10:21</td>\n",
              "      <td>1970-01-01 00:14:40</td>\n",
              "      <td>0 days 00:04:19</td>\n",
              "      <td>orange</td>\n",
              "    </tr>\n",
              "    <tr>\n",
              "      <th>2</th>\n",
              "      <td>junk</td>\n",
              "      <td>1970-01-01 00:14:40</td>\n",
              "      <td>1970-01-01 00:15:33</td>\n",
              "      <td>0 days 00:00:53</td>\n",
              "      <td>blue</td>\n",
              "    </tr>\n",
              "    <tr>\n",
              "      <th>3</th>\n",
              "      <td>gameplay</td>\n",
              "      <td>1970-01-01 00:15:33</td>\n",
              "      <td>1970-01-01 00:18:48</td>\n",
              "      <td>0 days 00:03:15</td>\n",
              "      <td>orange</td>\n",
              "    </tr>\n",
              "    <tr>\n",
              "      <th>4</th>\n",
              "      <td>junk</td>\n",
              "      <td>1970-01-01 00:18:48</td>\n",
              "      <td>1970-01-01 00:20:12</td>\n",
              "      <td>0 days 00:01:24</td>\n",
              "      <td>blue</td>\n",
              "    </tr>\n",
              "    <tr>\n",
              "      <th>5</th>\n",
              "      <td>gameplay</td>\n",
              "      <td>1970-01-01 00:20:12</td>\n",
              "      <td>1970-01-01 00:24:22</td>\n",
              "      <td>0 days 00:04:10</td>\n",
              "      <td>orange</td>\n",
              "    </tr>\n",
              "    <tr>\n",
              "      <th>6</th>\n",
              "      <td>junk</td>\n",
              "      <td>1970-01-01 00:24:22</td>\n",
              "      <td>1970-01-01 00:25:01</td>\n",
              "      <td>0 days 00:00:39</td>\n",
              "      <td>blue</td>\n",
              "    </tr>\n",
              "    <tr>\n",
              "      <th>7</th>\n",
              "      <td>gameplay</td>\n",
              "      <td>1970-01-01 00:25:01</td>\n",
              "      <td>1970-01-01 00:30:19</td>\n",
              "      <td>0 days 00:05:18</td>\n",
              "      <td>orange</td>\n",
              "    </tr>\n",
              "    <tr>\n",
              "      <th>8</th>\n",
              "      <td>junk</td>\n",
              "      <td>1970-01-01 00:30:19</td>\n",
              "      <td>1970-01-01 00:34:19</td>\n",
              "      <td>0 days 00:04:00</td>\n",
              "      <td>blue</td>\n",
              "    </tr>\n",
              "    <tr>\n",
              "      <th>9</th>\n",
              "      <td>gameplay</td>\n",
              "      <td>1970-01-01 00:34:19</td>\n",
              "      <td>1970-01-01 00:37:01</td>\n",
              "      <td>0 days 00:02:42</td>\n",
              "      <td>orange</td>\n",
              "    </tr>\n",
              "  </tbody>\n",
              "</table>\n",
              "</div>"
            ],
            "text/plain": [
              "      Label           Start Time             End Time         Duration   Color\n",
              "0      junk  1970-01-01 00:00:00  1970-01-01 00:10:21  0 days 00:10:21    blue\n",
              "1  gameplay  1970-01-01 00:10:21  1970-01-01 00:14:40  0 days 00:04:19  orange\n",
              "2      junk  1970-01-01 00:14:40  1970-01-01 00:15:33  0 days 00:00:53    blue\n",
              "3  gameplay  1970-01-01 00:15:33  1970-01-01 00:18:48  0 days 00:03:15  orange\n",
              "4      junk  1970-01-01 00:18:48  1970-01-01 00:20:12  0 days 00:01:24    blue\n",
              "5  gameplay  1970-01-01 00:20:12  1970-01-01 00:24:22  0 days 00:04:10  orange\n",
              "6      junk  1970-01-01 00:24:22  1970-01-01 00:25:01  0 days 00:00:39    blue\n",
              "7  gameplay  1970-01-01 00:25:01  1970-01-01 00:30:19  0 days 00:05:18  orange\n",
              "8      junk  1970-01-01 00:30:19  1970-01-01 00:34:19  0 days 00:04:00    blue\n",
              "9  gameplay  1970-01-01 00:34:19  1970-01-01 00:37:01  0 days 00:02:42  orange"
            ]
          },
          "execution_count": 202,
          "metadata": {},
          "output_type": "execute_result"
        }
      ],
      "source": [
        "timestamps_df = pd.read_csv(\"df_timestamps_grouped.csv\")\n",
        "timestamps_df.head(10)"
      ]
    },
    {
      "cell_type": "markdown",
      "metadata": {},
      "source": [
        "### Clustering (no filtering)\n"
      ]
    },
    {
      "cell_type": "code",
      "execution_count": null,
      "metadata": {},
      "outputs": [],
      "source": [
        "n_clusters = 5"
      ]
    },
    {
      "cell_type": "code",
      "execution_count": 206,
      "metadata": {},
      "outputs": [
        {
          "data": {
            "text/html": [
              "<div>\n",
              "<style scoped>\n",
              "    .dataframe tbody tr th:only-of-type {\n",
              "        vertical-align: middle;\n",
              "    }\n",
              "\n",
              "    .dataframe tbody tr th {\n",
              "        vertical-align: top;\n",
              "    }\n",
              "\n",
              "    .dataframe thead th {\n",
              "        text-align: right;\n",
              "    }\n",
              "</style>\n",
              "<table border=\"1\" class=\"dataframe\">\n",
              "  <thead>\n",
              "    <tr style=\"text-align: right;\">\n",
              "      <th></th>\n",
              "      <th>Label</th>\n",
              "      <th>Start Time</th>\n",
              "      <th>End Time</th>\n",
              "      <th>Duration</th>\n",
              "      <th>Color</th>\n",
              "      <th>Cluster</th>\n",
              "    </tr>\n",
              "  </thead>\n",
              "  <tbody>\n",
              "    <tr>\n",
              "      <th>0</th>\n",
              "      <td>junk</td>\n",
              "      <td>1970-01-01 00:00:00</td>\n",
              "      <td>1970-01-01 00:10:21</td>\n",
              "      <td>0 days 00:10:21</td>\n",
              "      <td>blue</td>\n",
              "      <td>2</td>\n",
              "    </tr>\n",
              "    <tr>\n",
              "      <th>1</th>\n",
              "      <td>gameplay</td>\n",
              "      <td>1970-01-01 00:10:21</td>\n",
              "      <td>1970-01-01 00:14:40</td>\n",
              "      <td>0 days 00:04:19</td>\n",
              "      <td>orange</td>\n",
              "      <td>2</td>\n",
              "    </tr>\n",
              "    <tr>\n",
              "      <th>2</th>\n",
              "      <td>junk</td>\n",
              "      <td>1970-01-01 00:14:40</td>\n",
              "      <td>1970-01-01 00:15:33</td>\n",
              "      <td>0 days 00:00:53</td>\n",
              "      <td>blue</td>\n",
              "      <td>2</td>\n",
              "    </tr>\n",
              "    <tr>\n",
              "      <th>3</th>\n",
              "      <td>gameplay</td>\n",
              "      <td>1970-01-01 00:15:33</td>\n",
              "      <td>1970-01-01 00:18:48</td>\n",
              "      <td>0 days 00:03:15</td>\n",
              "      <td>orange</td>\n",
              "      <td>2</td>\n",
              "    </tr>\n",
              "    <tr>\n",
              "      <th>4</th>\n",
              "      <td>junk</td>\n",
              "      <td>1970-01-01 00:18:48</td>\n",
              "      <td>1970-01-01 00:20:12</td>\n",
              "      <td>0 days 00:01:24</td>\n",
              "      <td>blue</td>\n",
              "      <td>2</td>\n",
              "    </tr>\n",
              "    <tr>\n",
              "      <th>5</th>\n",
              "      <td>gameplay</td>\n",
              "      <td>1970-01-01 00:20:12</td>\n",
              "      <td>1970-01-01 00:24:22</td>\n",
              "      <td>0 days 00:04:10</td>\n",
              "      <td>orange</td>\n",
              "      <td>2</td>\n",
              "    </tr>\n",
              "    <tr>\n",
              "      <th>6</th>\n",
              "      <td>junk</td>\n",
              "      <td>1970-01-01 00:24:22</td>\n",
              "      <td>1970-01-01 00:25:01</td>\n",
              "      <td>0 days 00:00:39</td>\n",
              "      <td>blue</td>\n",
              "      <td>2</td>\n",
              "    </tr>\n",
              "    <tr>\n",
              "      <th>7</th>\n",
              "      <td>gameplay</td>\n",
              "      <td>1970-01-01 00:25:01</td>\n",
              "      <td>1970-01-01 00:30:19</td>\n",
              "      <td>0 days 00:05:18</td>\n",
              "      <td>orange</td>\n",
              "      <td>2</td>\n",
              "    </tr>\n",
              "    <tr>\n",
              "      <th>8</th>\n",
              "      <td>junk</td>\n",
              "      <td>1970-01-01 00:30:19</td>\n",
              "      <td>1970-01-01 00:34:19</td>\n",
              "      <td>0 days 00:04:00</td>\n",
              "      <td>blue</td>\n",
              "      <td>3</td>\n",
              "    </tr>\n",
              "    <tr>\n",
              "      <th>9</th>\n",
              "      <td>gameplay</td>\n",
              "      <td>1970-01-01 00:34:19</td>\n",
              "      <td>1970-01-01 00:37:01</td>\n",
              "      <td>0 days 00:02:42</td>\n",
              "      <td>orange</td>\n",
              "      <td>3</td>\n",
              "    </tr>\n",
              "  </tbody>\n",
              "</table>\n",
              "</div>"
            ],
            "text/plain": [
              "      Label          Start Time            End Time         Duration   Color  \\\n",
              "0      junk 1970-01-01 00:00:00 1970-01-01 00:10:21  0 days 00:10:21    blue   \n",
              "1  gameplay 1970-01-01 00:10:21 1970-01-01 00:14:40  0 days 00:04:19  orange   \n",
              "2      junk 1970-01-01 00:14:40 1970-01-01 00:15:33  0 days 00:00:53    blue   \n",
              "3  gameplay 1970-01-01 00:15:33 1970-01-01 00:18:48  0 days 00:03:15  orange   \n",
              "4      junk 1970-01-01 00:18:48 1970-01-01 00:20:12  0 days 00:01:24    blue   \n",
              "5  gameplay 1970-01-01 00:20:12 1970-01-01 00:24:22  0 days 00:04:10  orange   \n",
              "6      junk 1970-01-01 00:24:22 1970-01-01 00:25:01  0 days 00:00:39    blue   \n",
              "7  gameplay 1970-01-01 00:25:01 1970-01-01 00:30:19  0 days 00:05:18  orange   \n",
              "8      junk 1970-01-01 00:30:19 1970-01-01 00:34:19  0 days 00:04:00    blue   \n",
              "9  gameplay 1970-01-01 00:34:19 1970-01-01 00:37:01  0 days 00:02:42  orange   \n",
              "\n",
              "   Cluster  \n",
              "0        2  \n",
              "1        2  \n",
              "2        2  \n",
              "3        2  \n",
              "4        2  \n",
              "5        2  \n",
              "6        2  \n",
              "7        2  \n",
              "8        3  \n",
              "9        3  "
            ]
          },
          "execution_count": 206,
          "metadata": {},
          "output_type": "execute_result"
        }
      ],
      "source": [
        "from sklearn.cluster import KMeans\n",
        "\n",
        "# ensure that Start/End Time columns have the correct type\n",
        "timestamps_df[\"Start Time\"] = pd.to_datetime(timestamps_df[\"Start Time\"])\n",
        "timestamps_df[\"End Time\"] = pd.to_datetime(timestamps_df[\"End Time\"])\n",
        "\n",
        "# init KMeans and execute it\n",
        "kmeans = KMeans(n_clusters=n_clusters, n_init=\"auto\")\n",
        "labels = kmeans.fit_predict(timestamps_df[[\"Start Time\", \"End Time\"]])\n",
        "\n",
        "# add a clusters column\n",
        "timestamps_df[\"Cluster\"] = labels\n",
        "\n",
        "timestamps_df.head(10)"
      ]
    },
    {
      "cell_type": "code",
      "execution_count": 204,
      "metadata": {},
      "outputs": [
        {
          "data": {
            "image/png": "[encoded data removed]",
            "text/plain": [
              "<Figure size 640x480 with 1 Axes>"
            ]
          },
          "metadata": {},
          "output_type": "display_data"
        }
      ],
      "source": [
        "clusters_labels = [timestamps_df[labels == i] for i in range(n_clusters)]\n",
        "\n",
        "cols = timestamps_df.columns\n",
        "\n",
        "for i in range(len(clusters_labels)):\n",
        "    plt.scatter(clusters_labels[i][\"Start Time\"], clusters_labels[i][\"End Time\"])\n",
        "\n",
        "plt.show()"
      ]
    },
    {
      "cell_type": "code",
      "execution_count": 208,
      "metadata": {},
      "outputs": [
        {
          "name": "stdout",
          "output_type": "stream",
          "text": [
            "Set 2: 00:00:00 - 00:30:19\n",
            "Set 3: 00:30:19 - 00:47:43\n",
            "Set 1: 00:47:43 - 01:07:57\n",
            "Set 0: 01:07:57 - 01:26:41\n",
            "Set 4: 01:26:41 - 01:42:17\n"
          ]
        }
      ],
      "source": [
        "for idx in timestamps_df[\"Cluster\"].unique():\n",
        "    start_time = timestamps_df[timestamps_df[\"Cluster\"] == idx].iloc[0][\"Start Time\"]\n",
        "    end_time = timestamps_df[timestamps_df[\"Cluster\"] == idx].iloc[-1][\"End Time\"]\n",
        "\n",
        "    print(f\"Set {idx}: {str(start_time)[11:]} - {str(end_time)[11:]}\")"
      ]
    },
    {
      "cell_type": "markdown",
      "metadata": {},
      "source": [
        "### Clustering (games-only)\n"
      ]
    },
    {
      "cell_type": "code",
      "execution_count": 212,
      "metadata": {},
      "outputs": [
        {
          "data": {
            "text/html": [
              "<div>\n",
              "<style scoped>\n",
              "    .dataframe tbody tr th:only-of-type {\n",
              "        vertical-align: middle;\n",
              "    }\n",
              "\n",
              "    .dataframe tbody tr th {\n",
              "        vertical-align: top;\n",
              "    }\n",
              "\n",
              "    .dataframe thead th {\n",
              "        text-align: right;\n",
              "    }\n",
              "</style>\n",
              "<table border=\"1\" class=\"dataframe\">\n",
              "  <thead>\n",
              "    <tr style=\"text-align: right;\">\n",
              "      <th></th>\n",
              "      <th>Label</th>\n",
              "      <th>Start Time</th>\n",
              "      <th>End Time</th>\n",
              "      <th>Duration</th>\n",
              "      <th>Color</th>\n",
              "      <th>Cluster</th>\n",
              "    </tr>\n",
              "  </thead>\n",
              "  <tbody>\n",
              "    <tr>\n",
              "      <th>0</th>\n",
              "      <td>gameplay</td>\n",
              "      <td>1970-01-01 00:10:21</td>\n",
              "      <td>1970-01-01 00:14:40</td>\n",
              "      <td>0 days 00:04:19</td>\n",
              "      <td>orange</td>\n",
              "      <td>3</td>\n",
              "    </tr>\n",
              "    <tr>\n",
              "      <th>0</th>\n",
              "      <td>gameplay</td>\n",
              "      <td>1970-01-01 00:15:33</td>\n",
              "      <td>1970-01-01 00:18:48</td>\n",
              "      <td>0 days 00:03:15</td>\n",
              "      <td>orange</td>\n",
              "      <td>3</td>\n",
              "    </tr>\n",
              "    <tr>\n",
              "      <th>0</th>\n",
              "      <td>gameplay</td>\n",
              "      <td>1970-01-01 00:20:12</td>\n",
              "      <td>1970-01-01 00:24:22</td>\n",
              "      <td>0 days 00:04:10</td>\n",
              "      <td>orange</td>\n",
              "      <td>3</td>\n",
              "    </tr>\n",
              "    <tr>\n",
              "      <th>0</th>\n",
              "      <td>gameplay</td>\n",
              "      <td>1970-01-01 00:25:01</td>\n",
              "      <td>1970-01-01 00:30:19</td>\n",
              "      <td>0 days 00:05:18</td>\n",
              "      <td>orange</td>\n",
              "      <td>3</td>\n",
              "    </tr>\n",
              "    <tr>\n",
              "      <th>0</th>\n",
              "      <td>gameplay</td>\n",
              "      <td>1970-01-01 00:34:19</td>\n",
              "      <td>1970-01-01 00:37:01</td>\n",
              "      <td>0 days 00:02:42</td>\n",
              "      <td>orange</td>\n",
              "      <td>1</td>\n",
              "    </tr>\n",
              "    <tr>\n",
              "      <th>0</th>\n",
              "      <td>gameplay</td>\n",
              "      <td>1970-01-01 00:37:38</td>\n",
              "      <td>1970-01-01 00:40:27</td>\n",
              "      <td>0 days 00:02:49</td>\n",
              "      <td>orange</td>\n",
              "      <td>1</td>\n",
              "    </tr>\n",
              "    <tr>\n",
              "      <th>0</th>\n",
              "      <td>gameplay</td>\n",
              "      <td>1970-01-01 00:40:58</td>\n",
              "      <td>1970-01-01 00:43:22</td>\n",
              "      <td>0 days 00:02:24</td>\n",
              "      <td>orange</td>\n",
              "      <td>1</td>\n",
              "    </tr>\n",
              "    <tr>\n",
              "      <th>0</th>\n",
              "      <td>gameplay</td>\n",
              "      <td>1970-01-01 00:47:43</td>\n",
              "      <td>1970-01-01 00:52:37</td>\n",
              "      <td>0 days 00:04:54</td>\n",
              "      <td>orange</td>\n",
              "      <td>0</td>\n",
              "    </tr>\n",
              "    <tr>\n",
              "      <th>0</th>\n",
              "      <td>gameplay</td>\n",
              "      <td>1970-01-01 00:53:22</td>\n",
              "      <td>1970-01-01 00:56:06</td>\n",
              "      <td>0 days 00:02:44</td>\n",
              "      <td>orange</td>\n",
              "      <td>0</td>\n",
              "    </tr>\n",
              "    <tr>\n",
              "      <th>0</th>\n",
              "      <td>gameplay</td>\n",
              "      <td>1970-01-01 00:56:58</td>\n",
              "      <td>1970-01-01 00:58:39</td>\n",
              "      <td>0 days 00:01:41</td>\n",
              "      <td>orange</td>\n",
              "      <td>0</td>\n",
              "    </tr>\n",
              "  </tbody>\n",
              "</table>\n",
              "</div>"
            ],
            "text/plain": [
              "      Label          Start Time            End Time        Duration   Color  \\\n",
              "0  gameplay 1970-01-01 00:10:21 1970-01-01 00:14:40 0 days 00:04:19  orange   \n",
              "0  gameplay 1970-01-01 00:15:33 1970-01-01 00:18:48 0 days 00:03:15  orange   \n",
              "0  gameplay 1970-01-01 00:20:12 1970-01-01 00:24:22 0 days 00:04:10  orange   \n",
              "0  gameplay 1970-01-01 00:25:01 1970-01-01 00:30:19 0 days 00:05:18  orange   \n",
              "0  gameplay 1970-01-01 00:34:19 1970-01-01 00:37:01 0 days 00:02:42  orange   \n",
              "0  gameplay 1970-01-01 00:37:38 1970-01-01 00:40:27 0 days 00:02:49  orange   \n",
              "0  gameplay 1970-01-01 00:40:58 1970-01-01 00:43:22 0 days 00:02:24  orange   \n",
              "0  gameplay 1970-01-01 00:47:43 1970-01-01 00:52:37 0 days 00:04:54  orange   \n",
              "0  gameplay 1970-01-01 00:53:22 1970-01-01 00:56:06 0 days 00:02:44  orange   \n",
              "0  gameplay 1970-01-01 00:56:58 1970-01-01 00:58:39 0 days 00:01:41  orange   \n",
              "\n",
              "   Cluster  \n",
              "0        3  \n",
              "0        3  \n",
              "0        3  \n",
              "0        3  \n",
              "0        1  \n",
              "0        1  \n",
              "0        1  \n",
              "0        0  \n",
              "0        0  \n",
              "0        0  "
            ]
          },
          "execution_count": 212,
          "metadata": {},
          "output_type": "execute_result"
        }
      ],
      "source": [
        "from sklearn.cluster import KMeans\n",
        "\n",
        "n_clusters = 5\n",
        "\n",
        "games_df[\"Start Time\"] = pd.to_datetime(games_df[\"Start Time\"])\n",
        "games_df[\"End Time\"] = pd.to_datetime(games_df[\"End Time\"])\n",
        "\n",
        "kmeans = KMeans(n_clusters=n_clusters, random_state=0, n_init=\"auto\")\n",
        "labels = kmeans.fit_predict(games_df[[\"Start Time\", \"End Time\"]])\n",
        "\n",
        "games_df[\"Cluster\"] = labels\n",
        "\n",
        "games_df.head(10)"
      ]
    },
    {
      "cell_type": "code",
      "execution_count": 213,
      "metadata": {},
      "outputs": [
        {
          "name": "stdout",
          "output_type": "stream",
          "text": [
            "Set 3: 00:10:21 - 00:30:19\n",
            "Set 1: 00:34:19 - 00:43:22\n",
            "Set 0: 00:47:43 - 01:07:57\n",
            "Set 2: 01:12:52 - 01:26:41\n",
            "Set 4: 01:32:37 - 01:42:17\n"
          ]
        }
      ],
      "source": [
        "for idx in games_df[\"Cluster\"].unique():\n",
        "    start_time = games_df[games_df[\"Cluster\"] == idx].iloc[0][\"Start Time\"]\n",
        "    end_time = games_df[games_df[\"Cluster\"] == idx].iloc[-1][\"End Time\"]\n",
        "\n",
        "    print(f\"Set {idx}: {str(start_time)[11:]} - {str(end_time)[11:]}\")"
      ]
    },
    {
      "cell_type": "code",
      "execution_count": 214,
      "metadata": {},
      "outputs": [
        {
          "data": {
            "image/png": "[encoded data removed]",
            "text/plain": [
              "<Figure size 640x480 with 1 Axes>"
            ]
          },
          "metadata": {},
          "output_type": "display_data"
        }
      ],
      "source": [
        "clusters_labels = [games_df[labels == i] for i in range(n_clusters)]\n",
        "\n",
        "cols = games_df.columns\n",
        "\n",
        "for i in range(len(clusters_labels)):\n",
        "    plt.scatter(clusters_labels[i][\"Start Time\"], clusters_labels[i][\"End Time\"])\n",
        "\n",
        "plt.show()"
      ]
    }
  ],
  "metadata": {
    "accelerator": "GPU",
    "colab": {
      "provenance": []
    },
    "kernelspec": {
      "display_name": "Python 3",
      "name": "python3"
    },
    "language_info": {
      "codemirror_mode": {
        "name": "ipython",
        "version": 3
      },
      "file_extension": ".py",
      "mimetype": "text/x-python",
      "name": "python",
      "nbconvert_exporter": "python",
      "pygments_lexer": "ipython3",
      "version": "3.11.5"
    }
  },
  "nbformat": 4,
  "nbformat_minor": 0
}
